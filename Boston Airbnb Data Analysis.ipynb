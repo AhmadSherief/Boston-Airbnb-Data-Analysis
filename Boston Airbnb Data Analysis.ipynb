{
 "cells": [
  {
   "cell_type": "markdown",
   "metadata": {},
   "source": [
    "# Business Understanding\n",
    "First things first, following the CRISP-DM process methodology our first task is to understand the problem, from the <a href=\"https://www.kaggle.com/airbnb/boston\" target=\"_blank\">dataset</a> description we can see that it describes the listing activity of homestays in Boston, MA. Next we should find the questions that we want answered. Some intriguing ones are:\n",
    "1. How much do areas, as well as time frames, influence AirBNB home earnings?\n",
    "2. How can reviews affect the prices of AirBNB homes?\n",
    "3. Does the internet availability affect the number of listings af an AirBNB home? and if so, should a host invest in making this service available for his listing?\n",
    "4. What percentage of people look for an AirBNB home with a washer/dryer available? And how much more do they have to pay to get this service?\n",
    "3. Can we use this data to predict the price of an AirBNB home?\n",
    "\n",
    "\n",
    "Now it's time to have a look at the data and try to understand it.\n",
    "\n",
    "***"
   ]
  },
  {
   "cell_type": "markdown",
   "metadata": {},
   "source": [
    "**Import Statements**"
   ]
  },
  {
   "cell_type": "code",
   "execution_count": 1,
   "metadata": {},
   "outputs": [],
   "source": [
    "import re\n",
    "import numpy as np\n",
    "import pandas as pd\n",
    "import math\n",
    "import matplotlib.pyplot as plt\n",
    "import seaborn as sb\n",
    "from sklearn.linear_model import LinearRegression\n",
    "from sklearn.model_selection import train_test_split\n",
    "from sklearn.metrics import r2_score\n",
    "\n",
    "%matplotlib inline"
   ]
  },
  {
   "cell_type": "code",
   "execution_count": 2,
   "metadata": {},
   "outputs": [],
   "source": [
    "# Read the csv files and store them in dataframes\n",
    "calender = pd.read_csv('calendar.csv')\n",
    "listings = pd.read_csv('listings.csv')\n",
    "reviews = pd.read_csv('reviews.csv')"
   ]
  },
  {
   "cell_type": "markdown",
   "metadata": {},
   "source": [
    "# Getting familiar with data \n",
    "First we get familiar with the data by asking some questions\n",
    "* what columns are available in the dataset? \n",
    "* What percentage of these columns are null values? \n",
    "* If the data is to be fed to a machine learning algorithm, what would be the features and what would be the output of the model? \n",
    "\n",
    "\n",
    "This can help us filter which rows to remove from dataset, and which to impute."
   ]
  },
  {
   "cell_type": "code",
   "execution_count": 3,
   "metadata": {},
   "outputs": [
    {
     "data": {
      "text/html": [
       "<div>\n",
       "<style scoped>\n",
       "    .dataframe tbody tr th:only-of-type {\n",
       "        vertical-align: middle;\n",
       "    }\n",
       "\n",
       "    .dataframe tbody tr th {\n",
       "        vertical-align: top;\n",
       "    }\n",
       "\n",
       "    .dataframe thead th {\n",
       "        text-align: right;\n",
       "    }\n",
       "</style>\n",
       "<table border=\"1\" class=\"dataframe\">\n",
       "  <thead>\n",
       "    <tr style=\"text-align: right;\">\n",
       "      <th></th>\n",
       "      <th>listing_id</th>\n",
       "      <th>date</th>\n",
       "      <th>available</th>\n",
       "      <th>price</th>\n",
       "    </tr>\n",
       "  </thead>\n",
       "  <tbody>\n",
       "    <tr>\n",
       "      <th>0</th>\n",
       "      <td>12147973</td>\n",
       "      <td>2017-09-05</td>\n",
       "      <td>f</td>\n",
       "      <td>NaN</td>\n",
       "    </tr>\n",
       "    <tr>\n",
       "      <th>1</th>\n",
       "      <td>12147973</td>\n",
       "      <td>2017-09-04</td>\n",
       "      <td>f</td>\n",
       "      <td>NaN</td>\n",
       "    </tr>\n",
       "    <tr>\n",
       "      <th>2</th>\n",
       "      <td>12147973</td>\n",
       "      <td>2017-09-03</td>\n",
       "      <td>f</td>\n",
       "      <td>NaN</td>\n",
       "    </tr>\n",
       "    <tr>\n",
       "      <th>3</th>\n",
       "      <td>12147973</td>\n",
       "      <td>2017-09-02</td>\n",
       "      <td>f</td>\n",
       "      <td>NaN</td>\n",
       "    </tr>\n",
       "    <tr>\n",
       "      <th>4</th>\n",
       "      <td>12147973</td>\n",
       "      <td>2017-09-01</td>\n",
       "      <td>f</td>\n",
       "      <td>NaN</td>\n",
       "    </tr>\n",
       "  </tbody>\n",
       "</table>\n",
       "</div>"
      ],
      "text/plain": [
       "   listing_id        date available price\n",
       "0    12147973  2017-09-05         f   NaN\n",
       "1    12147973  2017-09-04         f   NaN\n",
       "2    12147973  2017-09-03         f   NaN\n",
       "3    12147973  2017-09-02         f   NaN\n",
       "4    12147973  2017-09-01         f   NaN"
      ]
     },
     "execution_count": 3,
     "metadata": {},
     "output_type": "execute_result"
    }
   ],
   "source": [
    "calender.head()"
   ]
  },
  {
   "cell_type": "markdown",
   "metadata": {},
   "source": [
    "We can see that the calender dataset has 4 columns, one is the listing id which most probably won't have any null values, the date of the listing, the availablility which should probably be converted to a boolean column, and the price, which will most likely be the output a machine learning model which tries to estimate the price. Next we will check the **size** of the dataset, the **type** of each column, and the **percentage of null values** for each column."
   ]
  },
  {
   "cell_type": "code",
   "execution_count": 4,
   "metadata": {},
   "outputs": [
    {
     "data": {
      "text/plain": [
       "(1308890, 4)"
      ]
     },
     "execution_count": 4,
     "metadata": {},
     "output_type": "execute_result"
    }
   ],
   "source": [
    "# shape\n",
    "calender.shape"
   ]
  },
  {
   "cell_type": "code",
   "execution_count": 5,
   "metadata": {},
   "outputs": [
    {
     "data": {
      "text/plain": [
       "listing_id     int64\n",
       "date          object\n",
       "available     object\n",
       "price         object\n",
       "dtype: object"
      ]
     },
     "execution_count": 5,
     "metadata": {},
     "output_type": "execute_result"
    }
   ],
   "source": [
    "calender.dtypes"
   ]
  },
  {
   "cell_type": "code",
   "execution_count": 6,
   "metadata": {},
   "outputs": [
    {
     "data": {
      "text/plain": [
       "listing_id    0.000000\n",
       "date          0.000000\n",
       "available     0.000000\n",
       "price         0.508716\n",
       "dtype: float64"
      ]
     },
     "execution_count": 6,
     "metadata": {},
     "output_type": "execute_result"
    }
   ],
   "source": [
    "# percentage of null values\n",
    "calender.isnull().sum()/calender.shape[0]"
   ]
  },
  {
   "cell_type": "markdown",
   "metadata": {},
   "source": [
    "The calender dataframe has more than a million rows! Furthermore the **available** and **price** columns should not have an object type, they need to be converted to their correct types. We can also see that more than half of the data do not have a price, so dropping those rows seems like a logical idea if the price value is mandatory. Next we do the same for the listings and reviews dataframes."
   ]
  },
  {
   "cell_type": "code",
   "execution_count": 7,
   "metadata": {},
   "outputs": [
    {
     "data": {
      "text/html": [
       "<div>\n",
       "<style scoped>\n",
       "    .dataframe tbody tr th:only-of-type {\n",
       "        vertical-align: middle;\n",
       "    }\n",
       "\n",
       "    .dataframe tbody tr th {\n",
       "        vertical-align: top;\n",
       "    }\n",
       "\n",
       "    .dataframe thead th {\n",
       "        text-align: right;\n",
       "    }\n",
       "</style>\n",
       "<table border=\"1\" class=\"dataframe\">\n",
       "  <thead>\n",
       "    <tr style=\"text-align: right;\">\n",
       "      <th></th>\n",
       "      <th>id</th>\n",
       "      <th>listing_url</th>\n",
       "      <th>scrape_id</th>\n",
       "      <th>last_scraped</th>\n",
       "      <th>name</th>\n",
       "      <th>summary</th>\n",
       "      <th>space</th>\n",
       "      <th>description</th>\n",
       "      <th>experiences_offered</th>\n",
       "      <th>neighborhood_overview</th>\n",
       "      <th>...</th>\n",
       "      <th>review_scores_value</th>\n",
       "      <th>requires_license</th>\n",
       "      <th>license</th>\n",
       "      <th>jurisdiction_names</th>\n",
       "      <th>instant_bookable</th>\n",
       "      <th>cancellation_policy</th>\n",
       "      <th>require_guest_profile_picture</th>\n",
       "      <th>require_guest_phone_verification</th>\n",
       "      <th>calculated_host_listings_count</th>\n",
       "      <th>reviews_per_month</th>\n",
       "    </tr>\n",
       "  </thead>\n",
       "  <tbody>\n",
       "    <tr>\n",
       "      <th>0</th>\n",
       "      <td>12147973</td>\n",
       "      <td>https://www.airbnb.com/rooms/12147973</td>\n",
       "      <td>20160906204935</td>\n",
       "      <td>2016-09-07</td>\n",
       "      <td>Sunny Bungalow in the City</td>\n",
       "      <td>Cozy, sunny, family home.  Master bedroom high...</td>\n",
       "      <td>The house has an open and cozy feel at the sam...</td>\n",
       "      <td>Cozy, sunny, family home.  Master bedroom high...</td>\n",
       "      <td>none</td>\n",
       "      <td>Roslindale is quiet, convenient and friendly. ...</td>\n",
       "      <td>...</td>\n",
       "      <td>NaN</td>\n",
       "      <td>f</td>\n",
       "      <td>NaN</td>\n",
       "      <td>NaN</td>\n",
       "      <td>f</td>\n",
       "      <td>moderate</td>\n",
       "      <td>f</td>\n",
       "      <td>f</td>\n",
       "      <td>1</td>\n",
       "      <td>NaN</td>\n",
       "    </tr>\n",
       "    <tr>\n",
       "      <th>1</th>\n",
       "      <td>3075044</td>\n",
       "      <td>https://www.airbnb.com/rooms/3075044</td>\n",
       "      <td>20160906204935</td>\n",
       "      <td>2016-09-07</td>\n",
       "      <td>Charming room in pet friendly apt</td>\n",
       "      <td>Charming and quiet room in a second floor 1910...</td>\n",
       "      <td>Small but cozy and quite room with a full size...</td>\n",
       "      <td>Charming and quiet room in a second floor 1910...</td>\n",
       "      <td>none</td>\n",
       "      <td>The room is in Roslindale, a diverse and prima...</td>\n",
       "      <td>...</td>\n",
       "      <td>9.0</td>\n",
       "      <td>f</td>\n",
       "      <td>NaN</td>\n",
       "      <td>NaN</td>\n",
       "      <td>t</td>\n",
       "      <td>moderate</td>\n",
       "      <td>f</td>\n",
       "      <td>f</td>\n",
       "      <td>1</td>\n",
       "      <td>1.30</td>\n",
       "    </tr>\n",
       "    <tr>\n",
       "      <th>2</th>\n",
       "      <td>6976</td>\n",
       "      <td>https://www.airbnb.com/rooms/6976</td>\n",
       "      <td>20160906204935</td>\n",
       "      <td>2016-09-07</td>\n",
       "      <td>Mexican Folk Art Haven in Boston</td>\n",
       "      <td>Come stay with a friendly, middle-aged guy in ...</td>\n",
       "      <td>Come stay with a friendly, middle-aged guy in ...</td>\n",
       "      <td>Come stay with a friendly, middle-aged guy in ...</td>\n",
       "      <td>none</td>\n",
       "      <td>The LOCATION: Roslindale is a safe and diverse...</td>\n",
       "      <td>...</td>\n",
       "      <td>10.0</td>\n",
       "      <td>f</td>\n",
       "      <td>NaN</td>\n",
       "      <td>NaN</td>\n",
       "      <td>f</td>\n",
       "      <td>moderate</td>\n",
       "      <td>t</td>\n",
       "      <td>f</td>\n",
       "      <td>1</td>\n",
       "      <td>0.47</td>\n",
       "    </tr>\n",
       "  </tbody>\n",
       "</table>\n",
       "<p>3 rows × 95 columns</p>\n",
       "</div>"
      ],
      "text/plain": [
       "         id                            listing_url       scrape_id  \\\n",
       "0  12147973  https://www.airbnb.com/rooms/12147973  20160906204935   \n",
       "1   3075044   https://www.airbnb.com/rooms/3075044  20160906204935   \n",
       "2      6976      https://www.airbnb.com/rooms/6976  20160906204935   \n",
       "\n",
       "  last_scraped                               name  \\\n",
       "0   2016-09-07         Sunny Bungalow in the City   \n",
       "1   2016-09-07  Charming room in pet friendly apt   \n",
       "2   2016-09-07   Mexican Folk Art Haven in Boston   \n",
       "\n",
       "                                             summary  \\\n",
       "0  Cozy, sunny, family home.  Master bedroom high...   \n",
       "1  Charming and quiet room in a second floor 1910...   \n",
       "2  Come stay with a friendly, middle-aged guy in ...   \n",
       "\n",
       "                                               space  \\\n",
       "0  The house has an open and cozy feel at the sam...   \n",
       "1  Small but cozy and quite room with a full size...   \n",
       "2  Come stay with a friendly, middle-aged guy in ...   \n",
       "\n",
       "                                         description experiences_offered  \\\n",
       "0  Cozy, sunny, family home.  Master bedroom high...                none   \n",
       "1  Charming and quiet room in a second floor 1910...                none   \n",
       "2  Come stay with a friendly, middle-aged guy in ...                none   \n",
       "\n",
       "                               neighborhood_overview  ... review_scores_value  \\\n",
       "0  Roslindale is quiet, convenient and friendly. ...  ...                 NaN   \n",
       "1  The room is in Roslindale, a diverse and prima...  ...                 9.0   \n",
       "2  The LOCATION: Roslindale is a safe and diverse...  ...                10.0   \n",
       "\n",
       "  requires_license license jurisdiction_names instant_bookable  \\\n",
       "0                f     NaN                NaN                f   \n",
       "1                f     NaN                NaN                t   \n",
       "2                f     NaN                NaN                f   \n",
       "\n",
       "  cancellation_policy require_guest_profile_picture  \\\n",
       "0            moderate                             f   \n",
       "1            moderate                             f   \n",
       "2            moderate                             t   \n",
       "\n",
       "  require_guest_phone_verification calculated_host_listings_count  \\\n",
       "0                                f                              1   \n",
       "1                                f                              1   \n",
       "2                                f                              1   \n",
       "\n",
       "   reviews_per_month  \n",
       "0                NaN  \n",
       "1               1.30  \n",
       "2               0.47  \n",
       "\n",
       "[3 rows x 95 columns]"
      ]
     },
     "execution_count": 7,
     "metadata": {},
     "output_type": "execute_result"
    }
   ],
   "source": [
    "listings.head(3)"
   ]
  },
  {
   "cell_type": "code",
   "execution_count": 8,
   "metadata": {},
   "outputs": [
    {
     "data": {
      "text/plain": [
       "(3585, 95)"
      ]
     },
     "execution_count": 8,
     "metadata": {},
     "output_type": "execute_result"
    }
   ],
   "source": [
    "listings.shape"
   ]
  },
  {
   "cell_type": "code",
   "execution_count": 9,
   "metadata": {},
   "outputs": [],
   "source": [
    "pd.options.display.max_rows\n",
    "pd.set_option('display.max_rows', None)\n",
    "pd.set_option('display.max_columns', None)"
   ]
  },
  {
   "cell_type": "code",
   "execution_count": 10,
   "metadata": {},
   "outputs": [
    {
     "data": {
      "text/plain": [
       "neighbourhood_group_cleansed        1.000000\n",
       "jurisdiction_names                  1.000000\n",
       "license                             1.000000\n",
       "has_availability                    1.000000\n",
       "square_feet                         0.984379\n",
       "monthly_price                       0.752301\n",
       "weekly_price                        0.751185\n",
       "security_deposit                    0.625662\n",
       "notes                               0.550907\n",
       "interaction                         0.433473\n",
       "access                              0.415342\n",
       "neighborhood_overview               0.394700\n",
       "host_about                          0.365132\n",
       "transit                             0.359833\n",
       "house_rules                         0.332497\n",
       "cleaning_fee                        0.308787\n",
       "space                               0.294840\n",
       "review_scores_accuracy              0.229568\n",
       "review_scores_location              0.229289\n",
       "review_scores_value                 0.229010\n",
       "review_scores_checkin               0.228731\n",
       "review_scores_cleanliness           0.228173\n",
       "review_scores_communication         0.228173\n",
       "review_scores_rating                0.226778\n",
       "reviews_per_month                   0.210879\n",
       "first_review                        0.210879\n",
       "last_review                         0.210879\n",
       "thumbnail_url                       0.167085\n",
       "medium_url                          0.167085\n",
       "xl_picture_url                      0.167085\n",
       "neighbourhood                       0.151464\n",
       "host_response_time                  0.131381\n",
       "host_acceptance_rate                0.131381\n",
       "host_response_rate                  0.131381\n",
       "host_neighbourhood                  0.094561\n",
       "summary                             0.039888\n",
       "zipcode                             0.010600\n",
       "market                              0.003905\n",
       "bathrooms                           0.003905\n",
       "host_location                       0.003068\n",
       "bedrooms                            0.002789\n",
       "beds                                0.002510\n",
       "property_type                       0.000837\n",
       "city                                0.000558\n",
       "experiences_offered                 0.000000\n",
       "host_is_superhost                   0.000000\n",
       "host_thumbnail_url                  0.000000\n",
       "host_picture_url                    0.000000\n",
       "listing_url                         0.000000\n",
       "host_name                           0.000000\n",
       "scrape_id                           0.000000\n",
       "host_since                          0.000000\n",
       "description                         0.000000\n",
       "host_url                            0.000000\n",
       "host_id                             0.000000\n",
       "last_scraped                        0.000000\n",
       "picture_url                         0.000000\n",
       "name                                0.000000\n",
       "host_total_listings_count           0.000000\n",
       "host_listings_count                 0.000000\n",
       "country                             0.000000\n",
       "host_verifications                  0.000000\n",
       "availability_365                    0.000000\n",
       "minimum_nights                      0.000000\n",
       "maximum_nights                      0.000000\n",
       "calendar_updated                    0.000000\n",
       "availability_30                     0.000000\n",
       "availability_60                     0.000000\n",
       "availability_90                     0.000000\n",
       "calendar_last_scraped               0.000000\n",
       "host_has_profile_pic                0.000000\n",
       "number_of_reviews                   0.000000\n",
       "requires_license                    0.000000\n",
       "instant_bookable                    0.000000\n",
       "cancellation_policy                 0.000000\n",
       "require_guest_profile_picture       0.000000\n",
       "require_guest_phone_verification    0.000000\n",
       "extra_people                        0.000000\n",
       "guests_included                     0.000000\n",
       "price                               0.000000\n",
       "amenities                           0.000000\n",
       "bed_type                            0.000000\n",
       "accommodates                        0.000000\n",
       "room_type                           0.000000\n",
       "is_location_exact                   0.000000\n",
       "longitude                           0.000000\n",
       "latitude                            0.000000\n",
       "calculated_host_listings_count      0.000000\n",
       "country_code                        0.000000\n",
       "smart_location                      0.000000\n",
       "state                               0.000000\n",
       "neighbourhood_cleansed              0.000000\n",
       "street                              0.000000\n",
       "host_identity_verified              0.000000\n",
       "id                                  0.000000\n",
       "dtype: float64"
      ]
     },
     "execution_count": 10,
     "metadata": {},
     "output_type": "execute_result"
    }
   ],
   "source": [
    "# percentage of null values\n",
    "(listings.isnull().sum()/listings.shape[0]).sort_values(ascending = False)"
   ]
  },
  {
   "cell_type": "markdown",
   "metadata": {},
   "source": [
    "We can conclude the following about the listings dataset from the above results:\n",
    "* There are 95 columns 4 of which are completely null, 1 has 98.4% null values, and 4 have more than 50% null values\n",
    "* The id is the same as the listing_id from calender dataset so they can be joined together on that column\n",
    "* The price column doesn't have any null values, which is good for estimating price for new data\n"
   ]
  },
  {
   "cell_type": "code",
   "execution_count": 11,
   "metadata": {},
   "outputs": [
    {
     "data": {
      "text/html": [
       "<div>\n",
       "<style scoped>\n",
       "    .dataframe tbody tr th:only-of-type {\n",
       "        vertical-align: middle;\n",
       "    }\n",
       "\n",
       "    .dataframe tbody tr th {\n",
       "        vertical-align: top;\n",
       "    }\n",
       "\n",
       "    .dataframe thead th {\n",
       "        text-align: right;\n",
       "    }\n",
       "</style>\n",
       "<table border=\"1\" class=\"dataframe\">\n",
       "  <thead>\n",
       "    <tr style=\"text-align: right;\">\n",
       "      <th></th>\n",
       "      <th>listing_id</th>\n",
       "      <th>id</th>\n",
       "      <th>date</th>\n",
       "      <th>reviewer_id</th>\n",
       "      <th>reviewer_name</th>\n",
       "      <th>comments</th>\n",
       "    </tr>\n",
       "  </thead>\n",
       "  <tbody>\n",
       "    <tr>\n",
       "      <th>0</th>\n",
       "      <td>1178162</td>\n",
       "      <td>4724140</td>\n",
       "      <td>2013-05-21</td>\n",
       "      <td>4298113</td>\n",
       "      <td>Olivier</td>\n",
       "      <td>My stay at islam's place was really cool! Good...</td>\n",
       "    </tr>\n",
       "    <tr>\n",
       "      <th>1</th>\n",
       "      <td>1178162</td>\n",
       "      <td>4869189</td>\n",
       "      <td>2013-05-29</td>\n",
       "      <td>6452964</td>\n",
       "      <td>Charlotte</td>\n",
       "      <td>Great location for both airport and city - gre...</td>\n",
       "    </tr>\n",
       "    <tr>\n",
       "      <th>2</th>\n",
       "      <td>1178162</td>\n",
       "      <td>5003196</td>\n",
       "      <td>2013-06-06</td>\n",
       "      <td>6449554</td>\n",
       "      <td>Sebastian</td>\n",
       "      <td>We really enjoyed our stay at Islams house. Fr...</td>\n",
       "    </tr>\n",
       "    <tr>\n",
       "      <th>3</th>\n",
       "      <td>1178162</td>\n",
       "      <td>5150351</td>\n",
       "      <td>2013-06-15</td>\n",
       "      <td>2215611</td>\n",
       "      <td>Marine</td>\n",
       "      <td>The room was nice and clean and so were the co...</td>\n",
       "    </tr>\n",
       "    <tr>\n",
       "      <th>4</th>\n",
       "      <td>1178162</td>\n",
       "      <td>5171140</td>\n",
       "      <td>2013-06-16</td>\n",
       "      <td>6848427</td>\n",
       "      <td>Andrew</td>\n",
       "      <td>Great location. Just 5 mins walk from the Airp...</td>\n",
       "    </tr>\n",
       "  </tbody>\n",
       "</table>\n",
       "</div>"
      ],
      "text/plain": [
       "   listing_id       id        date  reviewer_id reviewer_name  \\\n",
       "0     1178162  4724140  2013-05-21      4298113       Olivier   \n",
       "1     1178162  4869189  2013-05-29      6452964     Charlotte   \n",
       "2     1178162  5003196  2013-06-06      6449554     Sebastian   \n",
       "3     1178162  5150351  2013-06-15      2215611        Marine   \n",
       "4     1178162  5171140  2013-06-16      6848427        Andrew   \n",
       "\n",
       "                                            comments  \n",
       "0  My stay at islam's place was really cool! Good...  \n",
       "1  Great location for both airport and city - gre...  \n",
       "2  We really enjoyed our stay at Islams house. Fr...  \n",
       "3  The room was nice and clean and so were the co...  \n",
       "4  Great location. Just 5 mins walk from the Airp...  "
      ]
     },
     "execution_count": 11,
     "metadata": {},
     "output_type": "execute_result"
    }
   ],
   "source": [
    "reviews.head()"
   ]
  },
  {
   "cell_type": "code",
   "execution_count": 12,
   "metadata": {},
   "outputs": [
    {
     "data": {
      "text/plain": [
       "(68275, 6)"
      ]
     },
     "execution_count": 12,
     "metadata": {},
     "output_type": "execute_result"
    }
   ],
   "source": [
    "reviews.shape"
   ]
  },
  {
   "cell_type": "code",
   "execution_count": 13,
   "metadata": {},
   "outputs": [
    {
     "data": {
      "text/plain": [
       "comments         0.000776\n",
       "reviewer_name    0.000000\n",
       "reviewer_id      0.000000\n",
       "date             0.000000\n",
       "id               0.000000\n",
       "listing_id       0.000000\n",
       "dtype: float64"
      ]
     },
     "execution_count": 13,
     "metadata": {},
     "output_type": "execute_result"
    }
   ],
   "source": [
    "# percentage of null values\n",
    "(reviews.isnull().sum()/reviews.shape[0]).sort_values(ascending = False)"
   ]
  },
  {
   "cell_type": "markdown",
   "metadata": {},
   "source": [
    "We can see that the reviews dataset has 6 columns, one of them is a listing id column, therefore, we can use the listing id to join the 3 dataframes together. However, we won't be needing this dataframe since it doesn't contain information relative to our questions.\n",
    "\n",
    "***\n",
    "\n",
    "# Data Preparation\n",
    "Our next step is to prepare the data, this includes:\n",
    "* Removing unnecessary rows and columns\n",
    "* Refactor data entries to be suitable for modeling\n",
    "* Assigning the correct dtype for each column\n",
    "* Imputing numerical values\n",
    "* Encode categorical values\n",
    "* Merging the 2 dataframes into 1 dataframe\n"
   ]
  },
  {
   "cell_type": "markdown",
   "metadata": {},
   "source": [
    " **Calender**"
   ]
  },
  {
   "cell_type": "code",
   "execution_count": 14,
   "metadata": {},
   "outputs": [],
   "source": [
    "# return this setting\n",
    "pd.set_option('display.max_rows', 60)"
   ]
  },
  {
   "cell_type": "code",
   "execution_count": 15,
   "metadata": {},
   "outputs": [
    {
     "data": {
      "text/plain": [
       "(643037, 4)"
      ]
     },
     "execution_count": 15,
     "metadata": {},
     "output_type": "execute_result"
    }
   ],
   "source": [
    "# drop rows where there is no price value\n",
    "calender = calender[~calender['price'].isnull()]\n",
    "calender.shape"
   ]
  },
  {
   "cell_type": "code",
   "execution_count": 16,
   "metadata": {},
   "outputs": [
    {
     "data": {
      "text/plain": [
       "array(['t'], dtype=object)"
      ]
     },
     "execution_count": 16,
     "metadata": {},
     "output_type": "execute_result"
    }
   ],
   "source": [
    "# Make sure available column in calender is boolean\n",
    "calender['available'].unique()"
   ]
  },
  {
   "cell_type": "markdown",
   "metadata": {},
   "source": [
    "We can find here that the available column has the same value for all rows, the ' f ' value came from NaN prices, we can therefore drop the column."
   ]
  },
  {
   "cell_type": "code",
   "execution_count": 17,
   "metadata": {},
   "outputs": [],
   "source": [
    "# drop 'available' column\n",
    "calender.drop(['available'],inplace = True, axis = 1)"
   ]
  },
  {
   "cell_type": "code",
   "execution_count": 18,
   "metadata": {},
   "outputs": [
    {
     "data": {
      "text/plain": [
       "(643037, 3)"
      ]
     },
     "execution_count": 18,
     "metadata": {},
     "output_type": "execute_result"
    }
   ],
   "source": [
    "# check that the prices are all in $\n",
    "calender[calender['price'].apply(lambda x: '$' in x)].shape"
   ]
  },
  {
   "cell_type": "code",
   "execution_count": 19,
   "metadata": {},
   "outputs": [],
   "source": [
    "# remove the '$' and ',' sign from price and convert the price column dtype to int\n",
    "calender['price'] = calender['price'].apply(lambda x: int(float(re.sub('[$,]','',x))))"
   ]
  },
  {
   "cell_type": "code",
   "execution_count": 20,
   "metadata": {},
   "outputs": [],
   "source": [
    "# change calender format from object to datetime\n",
    "calender['date'] = pd.to_datetime(calender['date'])"
   ]
  },
  {
   "cell_type": "code",
   "execution_count": 21,
   "metadata": {},
   "outputs": [
    {
     "data": {
      "text/html": [
       "<div>\n",
       "<style scoped>\n",
       "    .dataframe tbody tr th:only-of-type {\n",
       "        vertical-align: middle;\n",
       "    }\n",
       "\n",
       "    .dataframe tbody tr th {\n",
       "        vertical-align: top;\n",
       "    }\n",
       "\n",
       "    .dataframe thead th {\n",
       "        text-align: right;\n",
       "    }\n",
       "</style>\n",
       "<table border=\"1\" class=\"dataframe\">\n",
       "  <thead>\n",
       "    <tr style=\"text-align: right;\">\n",
       "      <th></th>\n",
       "      <th>listing_id</th>\n",
       "      <th>date</th>\n",
       "      <th>price</th>\n",
       "    </tr>\n",
       "  </thead>\n",
       "  <tbody>\n",
       "    <tr>\n",
       "      <th>365</th>\n",
       "      <td>3075044</td>\n",
       "      <td>2017-08-22</td>\n",
       "      <td>65</td>\n",
       "    </tr>\n",
       "    <tr>\n",
       "      <th>366</th>\n",
       "      <td>3075044</td>\n",
       "      <td>2017-08-21</td>\n",
       "      <td>65</td>\n",
       "    </tr>\n",
       "    <tr>\n",
       "      <th>367</th>\n",
       "      <td>3075044</td>\n",
       "      <td>2017-08-20</td>\n",
       "      <td>65</td>\n",
       "    </tr>\n",
       "    <tr>\n",
       "      <th>368</th>\n",
       "      <td>3075044</td>\n",
       "      <td>2017-08-19</td>\n",
       "      <td>75</td>\n",
       "    </tr>\n",
       "    <tr>\n",
       "      <th>369</th>\n",
       "      <td>3075044</td>\n",
       "      <td>2017-08-18</td>\n",
       "      <td>75</td>\n",
       "    </tr>\n",
       "  </tbody>\n",
       "</table>\n",
       "</div>"
      ],
      "text/plain": [
       "     listing_id       date  price\n",
       "365     3075044 2017-08-22     65\n",
       "366     3075044 2017-08-21     65\n",
       "367     3075044 2017-08-20     65\n",
       "368     3075044 2017-08-19     75\n",
       "369     3075044 2017-08-18     75"
      ]
     },
     "execution_count": 21,
     "metadata": {},
     "output_type": "execute_result"
    }
   ],
   "source": [
    "# check that everything is going well\n",
    "calender.head()"
   ]
  },
  {
   "cell_type": "markdown",
   "metadata": {},
   "source": [
    "**Listings**\n",
    "\n",
    "We can drop columns containing more than 90% missing values for starters, and after merging the dataframes we can decide which columns are valuable to answer our questions and which we can get rid of. In our case these columns are **neighbourhood_group_cleansed** , **jurisdiction_names**, **license**, **has_availability**, and **square_feet**.\n",
    "We can also make a new column which describes the **final_review_score** by using the **review_scores_rating** column while considering the accuracy of the review using the **review_scores_accuracy** column, and fill its missing values."
   ]
  },
  {
   "cell_type": "code",
   "execution_count": 22,
   "metadata": {},
   "outputs": [
    {
     "data": {
      "text/plain": [
       "(3585, 95)"
      ]
     },
     "execution_count": 22,
     "metadata": {},
     "output_type": "execute_result"
    }
   ],
   "source": [
    "listings.shape"
   ]
  },
  {
   "cell_type": "code",
   "execution_count": 23,
   "metadata": {},
   "outputs": [],
   "source": [
    "listings.drop(['neighbourhood_group_cleansed','jurisdiction_names','license','has_availability','square_feet'],axis=1,inplace=True)"
   ]
  },
  {
   "cell_type": "markdown",
   "metadata": {},
   "source": [
    "We can also drop columns with no variations"
   ]
  },
  {
   "cell_type": "code",
   "execution_count": 24,
   "metadata": {},
   "outputs": [],
   "source": [
    "listings.drop(['requires_license'],inplace = True, axis = 1)\n",
    "listings.drop(['experiences_offered'],inplace = True, axis = 1)\n",
    "# same as host_listings_count column\n",
    "listings.drop(['host_total_listings_count'],inplace = True, axis = 1)"
   ]
  },
  {
   "cell_type": "code",
   "execution_count": 25,
   "metadata": {},
   "outputs": [
    {
     "name": "stdout",
     "output_type": "stream",
     "text": [
      "(3585, 87)\n"
     ]
    }
   ],
   "source": [
    "# check that the prices are all in $\n",
    "print(listings[listings['price'].apply(lambda x: '$' in x)].shape)\n",
    "listings['price'] = listings['price'].apply(lambda x: int(float(re.sub('[$,]','',x))))"
   ]
  },
  {
   "cell_type": "code",
   "execution_count": 26,
   "metadata": {},
   "outputs": [],
   "source": [
    "# do the same for cleaning_fee and extra_people\n",
    "listings['extra_people'] = listings['extra_people'].apply(lambda x: int(float(re.sub('[$,]','',x))))\n",
    "listings['cleaning_fee'] = listings['cleaning_fee'].apply(lambda x: int(float(re.sub('[$,]','',x))) if isinstance(x, str) else x )"
   ]
  },
  {
   "cell_type": "markdown",
   "metadata": {},
   "source": [
    "Since **cleaning_fee** has some missing values we impute them using the **ffill** and **bfill** methods, we first want to sort them with respect to the columns they have high correlations with, and then perform the imputing."
   ]
  },
  {
   "cell_type": "code",
   "execution_count": 27,
   "metadata": {},
   "outputs": [
    {
     "data": {
      "text/plain": [
       "cleaning_fee                      1.000000e+00\n",
       "price                             4.902099e-01\n",
       "accommodates                      3.947616e-01\n",
       "calculated_host_listings_count    3.628134e-01\n",
       "beds                              3.563019e-01\n",
       "host_listings_count               3.150604e-01\n",
       "bedrooms                          3.070547e-01\n",
       "bathrooms                         2.511430e-01\n",
       "availability_90                   2.348651e-01\n",
       "availability_30                   2.254651e-01\n",
       "availability_60                   2.248960e-01\n",
       "availability_365                  2.206106e-01\n",
       "latitude                          1.798688e-01\n",
       "guests_included                   1.574342e-01\n",
       "minimum_nights                    1.525910e-01\n",
       "longitude                         1.310719e-01\n",
       "review_scores_location            1.083411e-01\n",
       "review_scores_cleanliness         9.480017e-02\n",
       "review_scores_rating              1.362272e-02\n",
       "scrape_id                        -8.100912e-16\n",
       "maximum_nights                   -9.132352e-03\n",
       "extra_people                     -3.697795e-02\n",
       "review_scores_accuracy           -4.465312e-02\n",
       "review_scores_value              -7.414261e-02\n",
       "review_scores_checkin            -9.920134e-02\n",
       "review_scores_communication      -1.139962e-01\n",
       "number_of_reviews                -1.636569e-01\n",
       "host_id                          -1.798313e-01\n",
       "id                               -1.871707e-01\n",
       "reviews_per_month                -2.649232e-01\n",
       "Name: cleaning_fee, dtype: float64"
      ]
     },
     "execution_count": 27,
     "metadata": {},
     "output_type": "execute_result"
    }
   ],
   "source": [
    "listings.corr()['cleaning_fee'].sort_values(ascending=False)"
   ]
  },
  {
   "cell_type": "markdown",
   "metadata": {},
   "source": [
    " We can select from above the **price**, **accommodates**, and **beds** columns. Next we impute the missing values."
   ]
  },
  {
   "cell_type": "code",
   "execution_count": 28,
   "metadata": {},
   "outputs": [],
   "source": [
    "# listings.sort_values(['price','accommodates','beds'],ascending = False)['cleaning_fee'] = listings.sort_values(['price','accommodates','beds'],ascending = False)['cleaning_fee'].fillna(method='ffill').fillna(method='bfill')\n",
    "listings['cleaning_fee'] = listings.sort_values(['price','accommodates','beds'],ascending = False)['cleaning_fee'].fillna(method='ffill').fillna(method='bfill')\n",
    "listings['cleaning_fee'] = listings['cleaning_fee'].astype(int);"
   ]
  },
  {
   "cell_type": "code",
   "execution_count": 29,
   "metadata": {},
   "outputs": [],
   "source": [
    "# create new column to hold the final review score value which is between 0 and 10\n",
    "listings['final_review_score'] = listings['review_scores_rating']*listings['review_scores_accuracy']/100\n",
    "\n",
    "# fill its missing values with the mean of the column\n",
    "listings['final_review_score'].fillna(listings['final_review_score'].mean(),inplace = True);\n",
    "\n",
    "# convert the column to integers from 0 to 10\n",
    "listings['final_review_score'] = listings['final_review_score'].round().astype(int)"
   ]
  },
  {
   "cell_type": "code",
   "execution_count": 30,
   "metadata": {},
   "outputs": [
    {
     "name": "stderr",
     "output_type": "stream",
     "text": [
      "C:\\Users\\Ahmad\\anaconda3\\lib\\site-packages\\pandas\\core\\ops\\array_ops.py:253: FutureWarning: elementwise comparison failed; returning scalar instead, but in the future will perform elementwise comparison\n",
      "  res_values = method(rvalues)\n"
     ]
    }
   ],
   "source": [
    "# change host_is_superhost, host_identity_verified, instant_bookable,\n",
    "# require_guest_profile_picture, and require_guest_phone_verification to boolean\n",
    "listings['host_is_superhost'] = (listings['host_is_superhost']=='t')*1\n",
    "listings['host_identity_verified'] = (listings['host_identity_verified']=='t')*1\n",
    "listings['instant_bookable'] = (listings['instant_bookable']=='t')*1\n",
    "listings['require_guest_profile_picture'] = (listings['require_guest_profile_picture']=='t')*1\n",
    "listings['require_guest_phone_verification'] = (listings['require_guest_phone_verification']=='t')*1\n",
    "listings['host_is_superhost'] = (listings['host_is_superhost']=='t')*1\n",
    "\n",
    "# convert rooms to int but first impute the missing values depending on the accommodates column\n",
    "# This can be seen using the same correlation function used in cleaning_fee\n",
    "listings['beds'] = listings.sort_values(['accommodates'],ascending=False)['beds'].fillna(method = 'ffill').fillna(method='bfill').astype(int)\n",
    "listings['bedrooms'] = listings.sort_values(['accommodates'],ascending=False)['bedrooms'].fillna(method = 'ffill').fillna(method='bfill').astype(int)\n",
    "listings['bathrooms'] = listings.sort_values(['accommodates'],ascending=False)['bathrooms'].fillna(method = 'ffill').fillna(method='bfill').astype(int)\n",
    "\n",
    "# impute review_scores_location\n",
    "listings['review_scores_location'] = listings.sort_values(['review_scores_rating'],ascending=False)['review_scores_location'].fillna(method = 'ffill').fillna(method='bfill').astype(int)"
   ]
  },
  {
   "cell_type": "markdown",
   "metadata": {},
   "source": [
    "Great!, Now for the categoical variables we should select some and use the get_dummies method for encoding. We select the below columns:\n",
    "\n",
    "* host_response_time\n",
    "* neighbourhood_cleansed\n",
    "* property_type\n",
    "* room_type\n",
    "* bed_type\n",
    "* amenities\n",
    "* cancellation_policy"
   ]
  },
  {
   "cell_type": "code",
   "execution_count": 31,
   "metadata": {},
   "outputs": [
    {
     "data": {
      "text/plain": [
       "host_response_time        471\n",
       "neighbourhood_cleansed      0\n",
       "property_type               3\n",
       "room_type                   0\n",
       "bed_type                    0\n",
       "amenities                   0\n",
       "cancellation_policy         0\n",
       "dtype: int64"
      ]
     },
     "execution_count": 31,
     "metadata": {},
     "output_type": "execute_result"
    }
   ],
   "source": [
    "listings[['host_response_time',\n",
    "'neighbourhood_cleansed',\n",
    "'property_type',\n",
    "'room_type',\n",
    "'bed_type',\n",
    "'amenities',\n",
    "'cancellation_policy']].isnull().sum()"
   ]
  },
  {
   "cell_type": "markdown",
   "metadata": {},
   "source": [
    "We can see that the property type and host response type will require some imputation, other than this all seems fine except the amenities which will further modification."
   ]
  },
  {
   "cell_type": "code",
   "execution_count": 32,
   "metadata": {},
   "outputs": [],
   "source": [
    "# Remove all unnecessary characters and keep the ',' character to be used as a separator\n",
    "listings['amenities']= listings['amenities'].apply(lambda x: re.sub('[{}\"\\'()]','',x))\n",
    "amen_dummies_df = listings['amenities'].str.get_dummies(sep = ',')"
   ]
  },
  {
   "cell_type": "markdown",
   "metadata": {},
   "source": [
    "That's great, but it requires further cleaning, for example **Washer / Dryer**, **Dryer** and **Washer** columns can be merged in one column, same for **Wireless Internet** and **Internet**, **Cable TV** and **TV**, **Other pets** and **Pets Allowed**, **translation missing: en.hosting_amenity_49** and **translation missing: en.hosting_amenity_49** should be dropped as their names don't indicate anything, **Carbon Monoxide Detector**, **Smoke Detector**, and **Smoking Allowed** should also be combined."
   ]
  },
  {
   "cell_type": "code",
   "execution_count": 33,
   "metadata": {},
   "outputs": [],
   "source": [
    "# Washer/Dryer\n",
    "amen_dummies_df['Washer / Dryer'] = (amen_dummies_df['Dryer'] | amen_dummies_df['Washer'])\n",
    "amen_dummies_df.drop(['Dryer', 'Washer'],axis = 1,inplace = True)"
   ]
  },
  {
   "cell_type": "code",
   "execution_count": 34,
   "metadata": {},
   "outputs": [],
   "source": [
    "# TV\n",
    "amen_dummies_df['TV'] = (amen_dummies_df['TV'] | amen_dummies_df['Cable TV'])\n",
    "amen_dummies_df.drop(['Cable TV'],axis = 1,inplace = True)"
   ]
  },
  {
   "cell_type": "code",
   "execution_count": 35,
   "metadata": {},
   "outputs": [],
   "source": [
    "# Internet\n",
    "amen_dummies_df['Internet'] = (amen_dummies_df['Internet'] | amen_dummies_df['Wireless Internet'])\n",
    "amen_dummies_df.drop(['Wireless Internet'],axis = 1,inplace = True)"
   ]
  },
  {
   "cell_type": "code",
   "execution_count": 36,
   "metadata": {},
   "outputs": [],
   "source": [
    "# Pets Allowed\n",
    "amen_dummies_df['Pets Allowed'] = (amen_dummies_df['Pets Allowed'] | amen_dummies_df['Other pets'])\n",
    "amen_dummies_df.drop(['Other pets'],axis = 1,inplace = True)"
   ]
  },
  {
   "cell_type": "code",
   "execution_count": 37,
   "metadata": {},
   "outputs": [
    {
     "data": {
      "text/plain": [
       "Smoking Allowed               95\n",
       "Carbon Monoxide Detector    2442\n",
       "Smoke Detector              2911\n",
       "dtype: int64"
      ]
     },
     "execution_count": 37,
     "metadata": {},
     "output_type": "execute_result"
    }
   ],
   "source": [
    "# Get the total number of occurences of Smoking Allowed, Carbon Monoxide Detector, Smoke Detector\n",
    "amen_dummies_df[['Smoking Allowed','Carbon Monoxide Detector','Smoke Detector']].sum()"
   ]
  },
  {
   "cell_type": "markdown",
   "metadata": {},
   "source": [
    "We can see that carbon monoxide detector and smoke detector occure more, thus we use them as a reference to smoking rule."
   ]
  },
  {
   "cell_type": "code",
   "execution_count": 38,
   "metadata": {},
   "outputs": [],
   "source": [
    "# No Smoking\n",
    "amen_dummies_df['No Smoking'] = (amen_dummies_df['Carbon Monoxide Detector'] | amen_dummies_df['Smoke Detector'])\n",
    "amen_dummies_df.drop(['Carbon Monoxide Detector','Smoke Detector','Smoking Allowed'],axis = 1,inplace = True)"
   ]
  },
  {
   "cell_type": "code",
   "execution_count": 39,
   "metadata": {},
   "outputs": [],
   "source": [
    "# Translation Missing\n",
    "amen_dummies_df.drop(['translation missing: en.hosting_amenity_49','translation missing: en.hosting_amenity_50'],axis = 1,inplace = True)"
   ]
  },
  {
   "cell_type": "markdown",
   "metadata": {},
   "source": [
    "We can now concatinate **amen_dummies_df** to our **listings** dataframe\n"
   ]
  },
  {
   "cell_type": "code",
   "execution_count": 40,
   "metadata": {},
   "outputs": [],
   "source": [
    "listings = pd.concat([listings, amen_dummies_df], axis=1, sort=False)"
   ]
  },
  {
   "cell_type": "markdown",
   "metadata": {},
   "source": [
    "Great! Now we have to encode the rest of our selected categorical columns"
   ]
  },
  {
   "cell_type": "code",
   "execution_count": 41,
   "metadata": {},
   "outputs": [],
   "source": [
    "cat_dummies = pd.get_dummies(listings[['host_response_time', 'neighbourhood_cleansed', 'property_type', \\\n",
    "                             'room_type','bed_type','cancellation_policy']],prefix=\\\n",
    "                             ['response', 'in','prop','room','bed','cancel_pol'])"
   ]
  },
  {
   "cell_type": "code",
   "execution_count": 42,
   "metadata": {},
   "outputs": [],
   "source": [
    "listings = pd.concat([listings, cat_dummies], axis=1, sort=False)"
   ]
  },
  {
   "cell_type": "markdown",
   "metadata": {},
   "source": [
    "**Merging DataFrames**\n",
    "\n",
    "To answer the first question, we need to merge the calender and listings dataframes together, we can find a relationship between the area and the prices from the listing dataframe only, but we need the calender dataframe to find the time frame - price relationship.\n",
    "\n",
    "First we need to change the name of some columns to avoid conflict between them, price in listings dataframe should be changed to original_price, id in listings dataframe should be changed to listing_id to avoid unnecessary columns"
   ]
  },
  {
   "cell_type": "code",
   "execution_count": 43,
   "metadata": {},
   "outputs": [],
   "source": [
    "listings.rename(columns={\"price\":\"original_price\",\"id\":\"listing_id\"},inplace=True)"
   ]
  },
  {
   "cell_type": "code",
   "execution_count": 44,
   "metadata": {},
   "outputs": [],
   "source": [
    "df = pd.merge(calender,listings,on='listing_id',how='left')"
   ]
  },
  {
   "cell_type": "markdown",
   "metadata": {},
   "source": [
    "# Data Modeling and Evaluation"
   ]
  },
  {
   "cell_type": "markdown",
   "metadata": {},
   "source": [
    "We explore the different areas present based on the **neighbourhood_cleansed** column, and find the relation between them and the **original_price** column, we use this column instead of the **price** column from the calender dataframe to avoid any bias results due to time difference. The boxplot from seaborn is chosen to compare visualize the data. "
   ]
  },
  {
   "cell_type": "code",
   "execution_count": 45,
   "metadata": {},
   "outputs": [
    {
     "data": {
      "image/png": "[encoded data removed]",
      "text/plain": [
       "<Figure size 720x1080 with 1 Axes>"
      ]
     },
     "metadata": {
      "needs_background": "light"
     },
     "output_type": "display_data"
    }
   ],
   "source": [
    "base_color = sb.color_palette()[0]\n",
    "# Increase plot size\n",
    "plt.figure(figsize = [10,15])\n",
    "# order results descendingly by median of original_price\n",
    "order = df.groupby(['neighbourhood_cleansed']).median().sort_values(['original_price'],ascending=False)['original_price'].index\n",
    "# plot\n",
    "sb.boxplot(data = df, y = 'neighbourhood_cleansed',x='original_price', color = base_color,order=order)\n",
    "plt.xlabel('Average price ($)');\n",
    "plt.ylabel('Neighborhood name');\n",
    "# limit the x axis to remove ouliers for better visualization\n",
    "plt.xlim([0,550]);"
   ]
  },
  {
   "cell_type": "markdown",
   "metadata": {},
   "source": [
    "We can observe from the above plot how the price varies accross different neighborhood. This answers the first half of the question. In order to answer the other part of the question, we need to see the change in average price, and plot it againest the dates available. We can use a line plot to visualize this."
   ]
  },
  {
   "cell_type": "code",
   "execution_count": 46,
   "metadata": {},
   "outputs": [
    {
     "data": {
      "text/plain": [
       "Timedelta('364 days 00:00:00')"
      ]
     },
     "execution_count": 46,
     "metadata": {},
     "output_type": "execute_result"
    }
   ],
   "source": [
    "# We check the range of the dates available in our dataframe\n",
    "df['date'].max() - df['date'].min()"
   ]
  },
  {
   "cell_type": "code",
   "execution_count": 47,
   "metadata": {},
   "outputs": [
    {
     "data": {
      "image/png": "[encoded data removed]",
      "text/plain": [
       "<Figure size 1080x576 with 1 Axes>"
      ]
     },
     "metadata": {
      "needs_background": "light"
     },
     "output_type": "display_data"
    }
   ],
   "source": [
    "# We create a new column holding the month value of each row\n",
    "df['month'] = df['date'].dt.month\n",
    "plt.figure(figsize = [15,8])\n",
    "plt.style.use('ggplot')\n",
    "\n",
    "# Plotting\n",
    "y_org_values = df.groupby(['month'])['original_price'].mean()\n",
    "y_act_values = df.groupby(['month'])['price'].mean()\n",
    "x_values = ['Jan', 'Feb', 'Mar', 'April','May', 'Jun', 'Jul', 'Aug', 'Sep', 'Oct', 'Nov', 'Dec']\n",
    "plt.plot(x_values,y_org_values, '-o',color=base_color,label = 'Original Price')\n",
    "plt.plot(x_values,y_act_values, 'r-o',label = 'Actual Price')\n",
    "\n",
    "plt.legend(loc=\"upper left\")\n",
    "plt.xlabel('Month')\n",
    "plt.ylabel('Average Price ($)');\n"
   ]
  },
  {
   "cell_type": "markdown",
   "metadata": {},
   "source": [
    "We can see from the above plot that the change in prices in September and October are highest, and in January is lowest."
   ]
  },
  {
   "cell_type": "markdown",
   "metadata": {},
   "source": [
    "For the next question we need to have compare the final review score that we computed earlier, with the time of year."
   ]
  },
  {
   "cell_type": "code",
   "execution_count": 48,
   "metadata": {},
   "outputs": [
    {
     "data": {
      "image/png": "[encoded data removed]",
      "text/plain": [
       "<Figure size 720x360 with 1 Axes>"
      ]
     },
     "metadata": {},
     "output_type": "display_data"
    }
   ],
   "source": [
    "plt.figure(figsize = [10,5])\n",
    "\n",
    "sb.regplot(data = df, x= 'final_review_score',y='original_price',color=base_color)\n",
    "plt.ylim(0, 550);\n",
    "plt.ylabel('Average price ($)');\n",
    "plt.xlabel('Final Review Score');\n"
   ]
  },
  {
   "cell_type": "markdown",
   "metadata": {},
   "source": [
    "As expected, the price shows a linear relationship with the reviws, so a AirBNB houses with higher rating, tend to have higher prices.\n",
    "Now for the third question, we need to find the relation between in internet availability and the number of listings of an AirBNB home."
   ]
  },
  {
   "cell_type": "code",
   "execution_count": 49,
   "metadata": {},
   "outputs": [
    {
     "data": {
      "text/plain": [
       "Text(0, 0.5, 'Listings')"
      ]
     },
     "execution_count": 49,
     "metadata": {},
     "output_type": "execute_result"
    },
    {
     "data": {
      "image/png": "[encoded data removed]",
      "text/plain": [
       "<Figure size 360x360 with 1 Axes>"
      ]
     },
     "metadata": {},
     "output_type": "display_data"
    }
   ],
   "source": [
    "plt.figure(figsize = [5,5])\n",
    "sorted_counts = df['Internet'].value_counts()\n",
    "plt.style.use('fivethirtyeight')\n",
    "plt.pie(sorted_counts,startangle = 90, counterclock = False, labels = ['Internet','No Internet'], autopct='%1.0f%%',\\\n",
    "       pctdistance=1.1,labeldistance=1.3);\n",
    "plt.ylabel('Listings')"
   ]
  },
  {
   "cell_type": "markdown",
   "metadata": {},
   "source": [
    "We can see that AirBNB homes with internet availability take up to 97% of the total listings of AirBNB homes! This shows that almost all people are looking for a home with internet service availability. Now, let's see how much this service affect the average price of a home."
   ]
  },
  {
   "cell_type": "code",
   "execution_count": 50,
   "metadata": {},
   "outputs": [
    {
     "data": {
      "image/png": "[encoded data removed]",
      "text/plain": [
       "<Figure size 360x360 with 1 Axes>"
      ]
     },
     "metadata": {},
     "output_type": "display_data"
    }
   ],
   "source": [
    "plt.figure(figsize = [5,5])\n",
    "plt.style.use('ggplot')\n",
    "\n",
    "sb.barplot(data = df, y = 'original_price',x='Internet', color = base_color)\n",
    "plt.ylabel('Average price ($)');\n",
    "plt.xlabel('Internet Availability');\n",
    "\n",
    "plt.xticks(ticks = [0,1], labels = ['Not Available','Available']);"
   ]
  },
  {
   "cell_type": "markdown",
   "metadata": {},
   "source": [
    "We can see that internet availability raises the average price of an AirBNB home by almost 30.00$. So to answer the question, a host should definitely invest in making this service available, not only does it raises the price value of the propery, but also draws attention of most people, as this is what they're looking for."
   ]
  },
  {
   "cell_type": "markdown",
   "metadata": {},
   "source": [
    "To answer our *4th* question, we can do the same for the Washer/Dryer column."
   ]
  },
  {
   "cell_type": "code",
   "execution_count": 51,
   "metadata": {},
   "outputs": [
    {
     "data": {
      "image/png": "[encoded data removed]",
      "text/plain": [
       "<Figure size 360x360 with 1 Axes>"
      ]
     },
     "metadata": {},
     "output_type": "display_data"
    }
   ],
   "source": [
    "plt.figure(figsize = [5,5])\n",
    "sorted_counts = df['Washer / Dryer'].value_counts()\n",
    "plt.style.use('fivethirtyeight')\n",
    "plt.pie(sorted_counts,startangle = 90, counterclock = False, labels = ['Available','Not Available'], autopct='%1.0f%%',\\\n",
    "       pctdistance=.5,labeldistance=1.1);\n",
    "plt.xlabel('Washer/Dryer Availability');"
   ]
  },
  {
   "cell_type": "markdown",
   "metadata": {},
   "source": [
    "68% of listings that occurred throughout the year offered a washer/dryer. This shows that 68% of people prefer a property with a washer/dryer. But how much are they willing to pay to get it?"
   ]
  },
  {
   "cell_type": "code",
   "execution_count": 52,
   "metadata": {},
   "outputs": [
    {
     "data": {
      "image/png": "[encoded data removed]",
      "text/plain": [
       "<Figure size 360x360 with 1 Axes>"
      ]
     },
     "metadata": {},
     "output_type": "display_data"
    }
   ],
   "source": [
    "plt.figure(figsize = [5,5])\n",
    "plt.style.use('ggplot')\n",
    "\n",
    "sb.barplot(data = df, y = 'original_price',x='Washer / Dryer', color = base_color)\n",
    "plt.ylabel('Average price ($)');\n",
    "plt.xlabel('Washer/Dryer Availability');\n",
    "\n",
    "plt.xticks(ticks = [0,1], labels = ['Not Available','Available']);"
   ]
  },
  {
   "cell_type": "markdown",
   "metadata": {},
   "source": [
    "We can see that they are willing to pay around 60.00$ for this service which is a big difference compared to the internet service."
   ]
  },
  {
   "cell_type": "markdown",
   "metadata": {},
   "source": [
    "Finally, to answer our last question, we can extract our features by first checking the correlation between the **original_price** column and other numeric columns, and select those with high correlation. Instead of using heatmaps,the below code does this in a single line."
   ]
  },
  {
   "cell_type": "code",
   "execution_count": 53,
   "metadata": {},
   "outputs": [
    {
     "data": {
      "text/plain": [
       "original_price          1.000000\n",
       "price                   0.879527\n",
       "room_Entire home/apt    0.474350\n",
       "accommodates            0.460641\n",
       "bedrooms                0.416205\n",
       "                          ...   \n",
       "prop_House             -0.141130\n",
       "reviews_per_month      -0.174394\n",
       "in_Dorchester          -0.200597\n",
       "room_Private room      -0.451096\n",
       "host_is_superhost            NaN\n",
       "Name: original_price, Length: 128, dtype: float64"
      ]
     },
     "execution_count": 53,
     "metadata": {},
     "output_type": "execute_result"
    }
   ],
   "source": [
    "df.corr()['original_price'].sort_values(ascending=False)"
   ]
  },
  {
   "cell_type": "markdown",
   "metadata": {},
   "source": [
    "We can see from the above plot that useful columns in our case are:\n",
    "* price\n",
    "* accommodates\n",
    "* bedrooms\n",
    "* beds\n",
    "* cleaning_fee\n",
    "* guests_included\n",
    "* review_scores_location\n",
    "* latitude\n",
    "* bathrooms\n",
    "* host_listing_count\n",
    "\n",
    "And we can add a couple of columns which we think might have an effect on the price prediction:\n",
    "\n",
    "* longitude\n",
    "* final_review_score\n",
    "* minimum_nights\n",
    "* Extra People\n",
    "* availability_30\n",
    "* month\n",
    "\n",
    "We should check for missing values in these columns and impute them if any."
   ]
  },
  {
   "cell_type": "code",
   "execution_count": 54,
   "metadata": {},
   "outputs": [
    {
     "data": {
      "text/plain": [
       "price                     0\n",
       "accommodates              0\n",
       "bedrooms                  0\n",
       "beds                      0\n",
       "cleaning_fee              0\n",
       "guests_included           0\n",
       "review_scores_location    0\n",
       "latitude                  0\n",
       "bathrooms                 0\n",
       "host_listings_count       0\n",
       "longitude                 0\n",
       "final_review_score        0\n",
       "minimum_nights            0\n",
       "extra_people              0\n",
       "availability_30           0\n",
       "month                     0\n",
       "dtype: int64"
      ]
     },
     "execution_count": 54,
     "metadata": {},
     "output_type": "execute_result"
    }
   ],
   "source": [
    "df[['price',\n",
    "'accommodates',\n",
    "'bedrooms',\n",
    "'beds',\n",
    "'cleaning_fee',\n",
    "'guests_included',\n",
    "'review_scores_location',\n",
    "'latitude',\n",
    "'bathrooms',\n",
    "'host_listings_count',\n",
    "'longitude',\n",
    "'final_review_score',\n",
    "'minimum_nights',\n",
    "'extra_people',\n",
    "'availability_30',\n",
    "'month']].isnull().sum()"
   ]
  },
  {
   "cell_type": "markdown",
   "metadata": {},
   "source": [
    "Great!, now its time for modeling\n",
    "\n",
    "### Price prediction\n",
    "\n",
    "We create the **X** matrix which holds the features of the model, and the **y** matrix which holds the variable that we're trying to predict, in our case the **original_price** variable."
   ]
  },
  {
   "cell_type": "code",
   "execution_count": 55,
   "metadata": {},
   "outputs": [],
   "source": [
    "# instead of selecting column by column we get all the numeric columns and drop those we don't need\n",
    "X = df.select_dtypes(np.number).drop(['listing_id','scrape_id','host_id','reviews_per_month',\\\n",
    "                                      'review_scores_rating','review_scores_communication','review_scores_checkin',\\\n",
    "                                     'review_scores_cleanliness','review_scores_value','review_scores_accuracy',\n",
    "                                     'host_is_superhost','host_identity_verified','original_price','maximum_nights',\\\n",
    "                                     'availability_60','availability_90','availability_365','number_of_reviews',\\\n",
    "                                     'instant_bookable','require_guest_profile_picture','require_guest_phone_verification',\\\n",
    "                                     'calculated_host_listings_count'],axis = 1)\n",
    "y = df['original_price']"
   ]
  },
  {
   "cell_type": "markdown",
   "metadata": {},
   "source": [
    "### Price Prediction Results"
   ]
  },
  {
   "cell_type": "code",
   "execution_count": 56,
   "metadata": {},
   "outputs": [
    {
     "data": {
      "text/plain": [
       "'The r-squared error for the model was 0.8233998285491164'"
      ]
     },
     "execution_count": 56,
     "metadata": {},
     "output_type": "execute_result"
    }
   ],
   "source": [
    "X_train, X_test, y_train, y_test = train_test_split(X,y,test_size = .2, random_state = 50)\n",
    "# instantiate\n",
    "lm_model = LinearRegression(normalize = True)\n",
    "# fit\n",
    "lm_model.fit(X_train, y_train) #training the algorithm\n",
    "# predict\n",
    "y_test_pred = lm_model.predict(X_test)\n",
    "# score\n",
    "\"The r-squared error for the model was {}\".format(r2_score(y_test,y_test_pred))"
   ]
  },
  {
   "cell_type": "markdown",
   "metadata": {},
   "source": [
    "The r-squared error we got using a linear regression model was 0.8234 which is pretty good.\n",
    "\n",
    "# Summary\n",
    "\n",
    "We found from the data how areas and time frames influence the price of an AirBNB home, neighborhoods with highest prices were found to be South Boston Waterfront, Bay Village, and Leather District, while those with low prices are Hyde Park and Mattapan.\n",
    "\n",
    "We saw how prices change along the year and that it increases in September and October, and decreases in January.\n",
    "\n",
    "We also saw the relation between review scores and home prices, stating that homes with better review tend to have higher prices, which is expected.\n",
    "\n",
    "Furthermore, we showed that 97% of people are looking for AirBNB homes with internet availability, and are willing to pay extra 30.00$ for it. So it sounds like a good investment for hosts that don't provide this service yet.\n",
    "\n",
    "And last but not least, we showed that 68% of people are looking for AirBNB homes that offer washer/dryer. And they can pay up to 60.00$ for it.\n",
    "\n",
    "Finally we used a linear regression model to predict the price of an AirBnB home, and that gave us an r-squared error of 0.8234"
   ]
  }
 ],
 "metadata": {
  "kernelspec": {
   "display_name": "Python 3",
   "language": "python",
   "name": "python3"
  },
  "language_info": {
   "codemirror_mode": {
    "name": "ipython",
    "version": 3
   },
   "file_extension": ".py",
   "mimetype": "text/x-python",
   "name": "python",
   "nbconvert_exporter": "python",
   "pygments_lexer": "ipython3",
   "version": "3.7.6"
  }
 },
 "nbformat": 4,
 "nbformat_minor": 4
}
